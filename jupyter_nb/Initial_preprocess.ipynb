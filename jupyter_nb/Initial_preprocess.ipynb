{
 "cells": [
  {
   "cell_type": "code",
   "execution_count": 1,
   "id": "1ca359d1-fe11-4e65-939a-8b313982078b",
   "metadata": {},
   "outputs": [],
   "source": [
    "import sys\n",
    "import regex\n",
    "import cgatcore.iotools as iotools\n",
    "import pysam\n",
    "import logging\n",
    "import argparse"
   ]
  },
  {
   "cell_type": "code",
   "execution_count": 9,
   "id": "82341ed4-3ce5-47cc-870a-448a10be6a38",
   "metadata": {},
   "outputs": [],
   "source": [
    "with pysam.FastxFile(\"TrimerTSO_2.fastq.gz\") as fh:\n",
    "    outfile = open(\"large.fastq\", \"w\")\n",
    "    n = 0\n",
    "    for record in fh:\n",
    "        n += 1\n",
    "        if len(record.sequence) < 300:\n",
    "            pass\n",
    "        else:\n",
    "            outfile.write(\"@%s\\n%s\\n+\\n%s\\n\" % (record.name, record.sequence, record.quality))\n"
   ]
  },
  {
   "cell_type": "code",
   "execution_count": 3,
   "id": "6ba55255-493f-4775-888c-2a820bc36a5f",
   "metadata": {},
   "outputs": [],
   "source": [
    "\n",
    "tab = str.maketrans(\"ACTG\", \"TGAC\")\n",
    "\n",
    "def reverse_complement_table(seq):\n",
    "    return seq.translate(tab)[::-1]\n",
    "\n",
    "\n",
    "outfile = open(\"polyA.fastq\", \"w\")\n",
    "log =  iotools.open_file(\"polyA.fastq\" + \".log\",\"w\")\n",
    "n = 0\n",
    "y = 0\n",
    "with pysam.FastxFile(\"TrimerTSO_cat.fastq.gz\") as fh:\n",
    "    \n",
    "    for record in fh:\n",
    "        y +=1\n",
    "        if len(record.sequence) < 300:\n",
    "            pass\n",
    "        else:\n",
    "            seq = record.sequence[50:300]\n",
    "            m=regex.findall(\"(TTTTTTTTTTTTTTTTTTTT){e<=3}\", str(seq))\n",
    "            if m:\n",
    "                n +=1\n",
    "                sequence = reverse_complement_table(str(record.sequence))\n",
    "                outfile.write(\"@%s\\n%s\\n+\\n%s\\n\" % (record.name, sequence, record.quality))\n",
    "            else:\n",
    "                seq = record.sequence[-30:-200:]\n",
    "                m=regex.findall(\"(AAAAAAAAAAAAAAAAAAAA){e<=3}\", str(seq))\n",
    "                if m:\n",
    "                    n +=1\n",
    "                    outfile.write(\"@%s\\n%s\\n+\\n%s\\n\" % (record.name, record.sequence, record.quality))\n",
    "outfile.close()\n",
    "log.close()"
   ]
  },
  {
   "cell_type": "markdown",
   "id": "b9fc7b36-8368-44ba-be3c-63776c296db7",
   "metadata": {},
   "source": [
    "Identify UMI sequences for TSO"
   ]
  },
  {
   "cell_type": "code",
   "execution_count": 49,
   "id": "ec0c5593-204a-4aaa-8ae0-6f8291d94a60",
   "metadata": {},
   "outputs": [
    {
     "name": "stdout",
     "output_type": "stream",
     "text": [
      "CCTTCCCAAACCTC\n",
      "TTTTAAAAAAATTTTTT\n",
      "CTGCCCGTG\n",
      "CCAAAAACCCAAAT\n",
      "CTTAAACCCAAT\n",
      "\n",
      "TCCCCCTGAAT\n",
      "T\n",
      "T\n",
      "GCAGGGAATAATG\n",
      "TTGGGAAAAATTT\n",
      "TCTGGGCAG\n",
      "CTAAATTTGAAAATTT\n",
      "ACC\n",
      "TCCAAT\n",
      "CCAAAATTTG\n",
      "GCCCT\n",
      "GCGGCCCTTTTTCCT\n",
      "CTGAACGAAGCATACCG\n",
      "CTTGGGCCCAAACCTG\n"
     ]
    }
   ],
   "source": [
    "tab = str.maketrans(\"ACTG\", \"TGAC\")\n",
    "\n",
    "def reverse_complement_table(seq):\n",
    "    return seq.translate(tab)[::-1]\n",
    "\n",
    "\n",
    "outfile = open(\"TSO_UMI.fastq\", \"w\")\n",
    "\n",
    "n = 0\n",
    "with pysam.FastxFile(\"polyA.fastq\") as fh:\n",
    "    \n",
    "    for record in fh:\n",
    "        n += 1\n",
    "        seq_nano = record.sequence\n",
    "        \n",
    "        m=regex.finditer(\"(AAGCAGTGGTATCAACGCAGAGTAAT){e<=3}\", str(record.sequence))\n",
    "        for i in m:\n",
    "            after_smart = seq_nano[i.end()+1:]\n",
    "            umi_tso = after_smart[:18]\n",
    "            after_umi = after_smart[19:]\n",
    "            record_new = record.name + \"_\" + str(umi_tso)\n",
    "            quality_afterumismart = record.quality[i.end()+20:]\n",
    "            seq_afterumismart = seq_nano[i.end()+20:]\n",
    "            if len(umi_tso) == 18:\n",
    "                # at the moment I am not including the umi for tso in the name\n",
    "                outfile.write(\"@%s\\n%s\\n+\\n%s\\n\" % (record.name, seq_afterumismart, quality_afterumismart))\n",
    "            else:\n",
    "                print(umi_tso)\n",
    "            \n"
   ]
  },
  {
   "cell_type": "markdown",
   "id": "6adefb8b-c390-45d0-952d-a510ca0543a5",
   "metadata": {},
   "source": [
    "Identify UMI sequences for polyA"
   ]
  },
  {
   "cell_type": "code",
   "execution_count": 53,
   "id": "af36f751-3381-4c11-9e13-9dea68480735",
   "metadata": {},
   "outputs": [],
   "source": [
    "tab = str.maketrans(\"ACTG\", \"TGAC\")\n",
    "\n",
    "def reverse_complement_table(seq):\n",
    "    return seq.translate(tab)[::-1]\n",
    "\n",
    "\n",
    "outfile = open(\"polyA_UMI.fastq\", \"w\")\n",
    "\n",
    "n = 0\n",
    "with pysam.FastxFile(\"TSO_UMI.fastq\") as fh:\n",
    "    \n",
    "    for record in fh:\n",
    "        n += 1\n",
    "        seq_nano = record.sequence\n",
    "        \n",
    "        m=regex.finditer(\"(GTACTCTGCGTTGATACCACTGCTT){e<=3}\", str(record.sequence))\n",
    "        \n",
    "        for i in m:\n",
    "            after_polya = seq_nano[i.start()-18:]\n",
    "            umi_polya = seq_nano[i.start()-18:i.start()]\n",
    "            after_umi = seq_nano[:i.start()-18]\n",
    "            record_new = record.name + \"_\" + str(umi_polya)\n",
    "            quality_afterumipolya = record.quality[:i.start()-36]\n",
    "            seq_afterumipolya = seq_nano[:i.start()-36]\n",
    "            \n",
    "            if len(umi_polya) == 18:\n",
    "                outfile.write(\"@%s\\n%s\\n+\\n%s\\n\" % (record_new, seq_afterumipolya, quality_afterumipolya))\n",
    "            else:\n",
    "                pass\n",
    "\n",
    "            "
   ]
  },
  {
   "cell_type": "markdown",
   "id": "f3c58531-827d-40f9-91a0-8433f33f5765",
   "metadata": {},
   "source": [
    "Map with minimap2 using following options:\n",
    "\n",
    "\n",
    "minimap2 -ax map-ont -p 0.9 --end-bonus 10 -N 3 Human-Mouse.fa polyA_UMI.fastq\n",
    "\n",
    "samtools view -bS polyA_UMI.sam > final.bam &&\n",
    "                   samtools sort final.bam -o final_sorted.bam &&\n",
    "                   samtools index final_sorted.bam\n",
    "\n",
    "Then add transcript to XT tag\n",
    "\n",
    "\n"
   ]
  },
  {
   "cell_type": "code",
   "execution_count": 54,
   "id": "a4a2cab1-124c-448b-bffa-937c1426d536",
   "metadata": {},
   "outputs": [],
   "source": [
    "samfile = pysam.AlignmentFile(\"final_sorted.bam\", \"rb\")\n",
    "outfile = pysam.AlignmentFile(\"XT_.bam\", \"wb\", template=samfile)\n",
    "\n",
    "for read in samfile:\n",
    "\n",
    "    if read.reference_name is not None:\n",
    "        read.tags += [('XT',read.reference_name)]\n",
    "    \n",
    "    else:\n",
    "        pass\n",
    "\n",
    "    outfile.write(read)\n",
    "\n",
    "samfile.close()\n",
    "outfile.close()"
   ]
  },
  {
   "cell_type": "markdown",
   "id": "060dde5b-1225-42f0-8948-e87f0a2d4650",
   "metadata": {},
   "source": [
    "samtools index XT.bam\n",
    "\n",
    "Then check for number of artefacts between mouse and human chimeric reads"
   ]
  },
  {
   "cell_type": "code",
   "execution_count": 3,
   "id": "3c821179-9698-4d0a-b63f-a06ff3b96f91",
   "metadata": {},
   "outputs": [],
   "source": [
    "bamfile = pysam.AlignmentFile(\"final_sorted.bam\", \"rb\")\n",
    "split = pysam.AlignmentFile(\"final_SA.bam\", \"wb\", template=bamfile)\n",
    "\n",
    "for line in bamfile:\n",
    "    if line.has_tag(\"SA\"):\n",
    "        split.write(line)\n",
    "    else:\n",
    "        pass\n",
    "\n",
    "bamfile.close()\n",
    "split.close()"
   ]
  },
  {
   "cell_type": "code",
   "execution_count": 34,
   "id": "1b98b5f7-00c5-4980-89ed-7d6d43421653",
   "metadata": {},
   "outputs": [
    {
     "name": "stdout",
     "output_type": "stream",
     "text": [
      "ENSMUST00000057792.8 ENST00000445125.2\n",
      "ENSMUST00000057792.8 ENST00000445125.2\n",
      "total number of reads:403\n",
      "total number of reads with a false chimera:2\n",
      "percent of reads that are fusions: 0.49627791563275436\n"
     ]
    }
   ],
   "source": [
    "bamfile = pysam.AlignmentFile(\"final_SA.bam\", \"rb\")\n",
    "\n",
    "n = 0\n",
    "fusions = 0\n",
    "for line in bamfile:\n",
    "    n += 1\n",
    "    tag = line.get_tag('SA').split(\",\")[0]\n",
    "    contig = line.reference_name\n",
    "    if contig[:4] == \"ENST\" and tag[:4] == \"ENST\":\n",
    "        pass\n",
    "    elif contig[:4] == \"ENST\" and tag[:4] == \"ENSM\":\n",
    "        fusions += 1\n",
    "        print(tag, contig)\n",
    "    elif contig[:4] == \"ENSM\" and tag[:4] == \"ENST\":\n",
    "        fusions += 1\n",
    "        print(tag, contig)\n",
    "    elif contig[:4] == \"ENSM\" and tag[:4] == \"ENSM\":\n",
    "        pass\n",
    "\n",
    "print(\"total number of reads:{}\".format(n))\n",
    "print(\"total number of reads with a false chimera:{}\".format(fusions))\n",
    "print(\"percent of reads that are fusions: {}\".format(fusions/n*100))"
   ]
  }
 ],
 "metadata": {
  "kernelspec": {
   "display_name": "Python 3 (ipykernel)",
   "language": "python",
   "name": "python3"
  },
  "language_info": {
   "codemirror_mode": {
    "name": "ipython",
    "version": 3
   },
   "file_extension": ".py",
   "mimetype": "text/x-python",
   "name": "python",
   "nbconvert_exporter": "python",
   "pygments_lexer": "ipython3",
   "version": "3.8.0"
  }
 },
 "nbformat": 4,
 "nbformat_minor": 5
}
