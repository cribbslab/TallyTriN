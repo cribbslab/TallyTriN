{
 "cells": [
  {
   "cell_type": "code",
   "execution_count": 2,
   "id": "d4596ddc-dcd0-41e3-b706-ac6e345354b6",
   "metadata": {},
   "outputs": [],
   "source": [
    "import sys\n",
    "import regex\n",
    "import cgatcore.iotools as iotools\n",
    "import pysam\n",
    "import logging\n",
    "import argparse"
   ]
  },
  {
   "cell_type": "code",
   "execution_count": 58,
   "id": "8427885b-4777-49c7-b65b-879584ea0467",
   "metadata": {},
   "outputs": [
    {
     "name": "stdout",
     "output_type": "stream",
     "text": [
      "363\n",
      "1000\n"
     ]
    }
   ],
   "source": [
    "tab = str.maketrans(\"ACTG\", \"TGAC\")\n",
    "\n",
    "def reverse_complement_table(seq):\n",
    "    return seq.translate(tab)[::-1]\n",
    "\n",
    "\n",
    "outfile = iotools.open_file(\"polya_revcomp.fastq\", \"w\")\n",
    "log =  iotools.open_file(\"revcomp\" + \".log\",\"w\")\n",
    "n = 0\n",
    "y = 0\n",
    "with pysam.FastxFile(\"input.fastq\") as fh:\n",
    "    \n",
    "    for record in fh:\n",
    "        y +=1\n",
    "        if len(record.sequence) < 300:\n",
    "            pass\n",
    "        else:\n",
    "            seq = record.sequence[30:300]\n",
    "            m=regex.findall(\"(TTTTTTTTTTTTTTTTTTTT){e<=3}\", str(seq))\n",
    "            if m:\n",
    "                n +=1\n",
    "                sequence = reverse_complement_table(str(record.sequence))\n",
    "                outfile.write(\"@%s\\n%s\\n+\\n%s\\n\" % (record.name, sequence, record.quality))\n",
    "            else:\n",
    "                seq = record.sequence[-30:-200:]\n",
    "                m=regex.findall(\"(AAAAAAAAAAAAAAAAAAAA){e<=3}\", str(seq))\n",
    "                if m:\n",
    "                    n +=1\n",
    "                    outfile.write(\"@%s\\n%s\\n+\\n%s\\n\" % (record.name, record.sequence, record.quality))\n",
    "                            \n",
    "print(n)\n",
    "print(y)\n",
    "outfile.close()\n",
    "log.close()"
   ]
  },
  {
   "cell_type": "code",
   "execution_count": 89,
   "id": "9466fddf-8f27-4816-85b8-1392808f8ab8",
   "metadata": {},
   "outputs": [],
   "source": [
    "tab = str.maketrans(\"ACTG\", \"TGAC\")\n",
    "\n",
    "def reverse_complement_table(seq):\n",
    "    return seq.translate(tab)[::-1]\n",
    "\n",
    "def most_common(lst):\n",
    "    return max(set(lst), key=lst.count)\n",
    "\n",
    "outfile = open(\"polya_umi.fastq\", \"w\")\n",
    "\n",
    "n = 0\n",
    "\n",
    "collapsed_trimers = []\n",
    "\n",
    "with pysam.FastxFile(\"polya_revcomp.fastq\") as fh:\n",
    "    \n",
    "    for record in fh:\n",
    "        n += 1\n",
    "        seq_nano = record.sequence\n",
    "        \n",
    "        m=regex.finditer(\"(GTACTCTGCGTTGATACCACTGCTT){e<=1}\", str(record.sequence))\n",
    "        \n",
    "        for i in m:\n",
    "            umi = seq_nano[i.start()-24:i.start()]\n",
    "            #print(umi)\n",
    "            single_nuc = []\n",
    "            \n",
    "            trimers = [umi[i:i+3] for i in range(0, len(umi), 3)]\n",
    "            \n",
    "            for trimer in trimers:\n",
    "                single_nuc.append(most_common(trimer))\n",
    "            \n",
    "            collapse = \"\".join(single_nuc)\n",
    "            collapsed_trimers.append(collapse)\n",
    "\n",
    "            \n",
    "            \n",
    "            \n",
    "#print(collapsed_trimers)\n",
    "\n"
   ]
  },
  {
   "cell_type": "code",
   "execution_count": 95,
   "id": "cfe3ebe4-faad-4d85-9b12-17e0376933fb",
   "metadata": {},
   "outputs": [
    {
     "name": "stdout",
     "output_type": "stream",
     "text": [
      "Counter({0: 140, 2: 31, 1: 19, 3: 17, 5: 17, 4: 13, 8: 8, 7: 4, 6: 3})\n",
      "The percent of perfect UMIs with trimers: 55.55555555555556\n",
      "The percent of one missmatch UMI with trimers: 7.5396825396825395\n",
      "The percent of two missmatch UMI with trimers: 12.3015873015873\n",
      "The percent of three missmatch UMI with trimers: 6.746031746031746\n"
     ]
    }
   ],
   "source": [
    "# count the number of perfect \n",
    "from collections import Counter\n",
    "counts = []\n",
    "n = 0\n",
    "for sequence in collapsed_trimers:\n",
    "    n += 1\n",
    "    count = sum(1 for a, b in zip(\"CTGCTACT\", sequence) if a != b)\n",
    "    #print(count)\n",
    "    counts.append(count)\n",
    "print(Counter(counts))\n",
    "\n",
    "print(\"The percent of perfect UMIs with trimers: %s\"%(Counter(counts)[0]/n*100))\n",
    "print(\"The percent of one missmatch UMI with trimers: %s\"%(Counter(counts)[1]/n*100))\n",
    "print(\"The percent of two missmatch UMI with trimers: %s\"%(Counter(counts)[2]/n*100))\n",
    "print(\"The percent of three missmatch UMI with trimers: %s\"%(Counter(counts)[3]/n*100))\n"
   ]
  },
  {
   "cell_type": "code",
   "execution_count": null,
   "id": "54171c46-882e-4c48-8739-09cfcf71dae0",
   "metadata": {},
   "outputs": [],
   "source": []
  },
  {
   "cell_type": "code",
   "execution_count": 119,
   "id": "e5c14744-74ec-4e71-a5a4-6a4b118cf4ed",
   "metadata": {},
   "outputs": [
    {
     "name": "stdout",
     "output_type": "stream",
     "text": [
      "363\n",
      "138\n",
      "218\n",
      "Total UMIs that have either point or indels: 98.07162534435263\n",
      "Total UMIs that have a point error: 38.01652892561984\n",
      "Total UMIs that have either indels error: 60.05509641873278\n"
     ]
    }
   ],
   "source": [
    "# How many idels vs point mutations\n",
    "\n",
    "def allCharactersSame(s) :\n",
    "    n = len(s)\n",
    "    for i in range(1, n) :\n",
    "        if s[i] != s[0] :\n",
    "            return False\n",
    " \n",
    "    return True\n",
    "\n",
    "\n",
    "indel = 0\n",
    "point = 0\n",
    "total = 0\n",
    "with pysam.FastxFile(\"polya_revcomp.fastq\") as fh:\n",
    "    \n",
    "    for record in fh:\n",
    "        total += 1\n",
    "        seq_nano = record.sequence\n",
    "        \n",
    "        m=regex.finditer(\"(GTACTCTGCGTTGATACCACTGCTT){e<=1}\", str(record.sequence))\n",
    "        \n",
    "        for i in m:\n",
    "            umi = seq_nano[i.start()-24:i.start()]\n",
    "            #print(umi)\n",
    "            single_nuc = []\n",
    "            \n",
    "            trimers = [umi[i:i+3] for i in range(0, len(umi), 3)]\n",
    "            \n",
    "            n = 0\n",
    "            indel_counter = 0\n",
    "            for trimer in trimers:\n",
    "                \n",
    "                if allCharactersSame(trimer):\n",
    "                    if n > 1:\n",
    "                        point += 1\n",
    "                if not allCharactersSame(trimer):\n",
    "                    #print(trimer)\n",
    "                    n += 1\n",
    "                    #print(n)\n",
    "                    if n > 1:\n",
    "                        indel_counter += 1\n",
    "            if indel_counter > 1:\n",
    "                indel += 1\n",
    "print(total)\n",
    "print(point)\n",
    "print(indel)\n",
    "\n",
    "print(\"Total UMIs that have either point or indels: {}\".format((total-(point+indel))/total *100))\n",
    "print(\"Total UMIs that have either point or indels: {}\".format((point+indel)/total *100))\n",
    "print(\"Total UMIs that have a point error: {}\".format(point/total *100))\n",
    "print(\"Total UMIs that have either indels error: {}\".format(indel/total *100))\n",
    "                        \n",
    "        "
   ]
  }
 ],
 "metadata": {
  "kernelspec": {
   "display_name": "Python 3 (ipykernel)",
   "language": "python",
   "name": "python3"
  },
  "language_info": {
   "codemirror_mode": {
    "name": "ipython",
    "version": 3
   },
   "file_extension": ".py",
   "mimetype": "text/x-python",
   "name": "python",
   "nbconvert_exporter": "python",
   "pygments_lexer": "ipython3",
   "version": "3.8.11"
  }
 },
 "nbformat": 4,
 "nbformat_minor": 5
}
